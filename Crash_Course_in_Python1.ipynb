{
  "nbformat": 4,
  "nbformat_minor": 0,
  "metadata": {
    "colab": {
      "provenance": [],
      "authorship_tag": "ABX9TyMavRfOiPhm5JISfOVtSlAw",
      "include_colab_link": true
    },
    "kernelspec": {
      "name": "python3",
      "display_name": "Python 3"
    },
    "language_info": {
      "name": "python"
    }
  },
  "cells": [
    {
      "cell_type": "markdown",
      "metadata": {
        "id": "view-in-github",
        "colab_type": "text"
      },
      "source": [
        "<a href=\"https://colab.research.google.com/github/roapaula/AutomationWPython1/blob/main/Crash_Course_in_Python1.ipynb\" target=\"_parent\"><img src=\"https://colab.research.google.com/assets/colab-badge.svg\" alt=\"Open In Colab\"/></a>"
      ]
    },
    {
      "cell_type": "markdown",
      "source": [
        "# HELLO PYTHON\n",
        "PRIMEROS PASOS"
      ],
      "metadata": {
        "id": "YDF23yqpxY6l"
      }
    },
    {
      "cell_type": "markdown",
      "source": [
        "Print ()"
      ],
      "metadata": {
        "id": "2RYrEtpWzpgP"
      }
    },
    {
      "cell_type": "code",
      "execution_count": 1,
      "metadata": {
        "colab": {
          "base_uri": "https://localhost:8080/"
        },
        "id": "3tNnOfqQxUYq",
        "outputId": "93235563-67e6-4994-f2c7-f583cf1e6699"
      },
      "outputs": [
        {
          "output_type": "stream",
          "name": "stdout",
          "text": [
            "I love Python!\n",
            "360\n",
            "1440\n",
            "48\n"
          ]
        }
      ],
      "source": [
        "# Syntax for printing a string of text\n",
        "print(\"I love Python!\")\n",
        "\n",
        "\n",
        "# Syntax for printing numeric values\n",
        "print(360)\n",
        "print(32*45)\n",
        "\n",
        "\n",
        "# Syntax for printing the value of a variable\n",
        "value = 8*6\n",
        "print(value)"
      ]
    },
    {
      "cell_type": "markdown",
      "source": [
        "Arithmetic Operators"
      ],
      "metadata": {
        "id": "dWaolZg_zuKU"
      }
    },
    {
      "cell_type": "code",
      "source": [
        "# Multiplication, division, addition, and subtraction\n",
        "print(3*8/2+5-1)\n",
        "\n",
        "# Exponents\n",
        "print(4**6) # Syntax means 4 to the power of 6\n",
        "print(4**2) # To square a number\n",
        "print(4**3) # To cube a number\n",
        "print(4**0.5) # To find the square root of a number\n",
        "\n",
        "# To calculate how many different possible combinations can be\n",
        "# formed using a set of \"x\" characters with each character in \"x\"\n",
        "# having \"y\" number of possible values, you will need to use an\n",
        "# exponent for the calculation:\n",
        "x = 4\n",
        "y = 26\n",
        "print(y**x)"
      ],
      "metadata": {
        "colab": {
          "base_uri": "https://localhost:8080/"
        },
        "id": "swTNowSez1pp",
        "outputId": "38946095-d75c-4c90-89cb-aca6e9aadccc"
      },
      "execution_count": 2,
      "outputs": [
        {
          "output_type": "stream",
          "name": "stdout",
          "text": [
            "16.0\n",
            "4096\n",
            "16\n",
            "64\n",
            "2.0\n",
            "456976\n"
          ]
        }
      ]
    },
    {
      "cell_type": "markdown",
      "source": [
        "Variables with assignment and arithmetic operators"
      ],
      "metadata": {
        "id": "UxSoqQfd0MiK"
      }
    },
    {
      "cell_type": "code",
      "source": [
        "# Assignment of values to the variables:\n",
        "years = 10\n",
        "weeks_in_a_year = 52\n",
        "# This variable is assigned an arithmetic calculation:\n",
        "weeks_in_a_decade = years * weeks_in_a_year\n",
        "# Prints the calculation stored in the \"weeks_in_a_decade\" variable:\n",
        "print(weeks_in_a_decade)"
      ],
      "metadata": {
        "colab": {
          "base_uri": "https://localhost:8080/"
        },
        "id": "5ofYiAQo0O92",
        "outputId": "56f6c1a4-e44d-4fd1-97ff-708fb29ccc2f"
      },
      "execution_count": 3,
      "outputs": [
        {
          "output_type": "stream",
          "name": "stdout",
          "text": [
            "520\n"
          ]
        }
      ]
    }
  ]
}